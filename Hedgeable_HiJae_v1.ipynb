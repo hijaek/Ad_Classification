{
 "cells": [
  {
   "cell_type": "code",
   "execution_count": 2,
   "metadata": {},
   "outputs": [
    {
     "name": "stderr",
     "output_type": "stream",
     "text": [
      "C:\\Users\\hikim.TPR\\AppData\\Local\\Continuum\\Anaconda3\\lib\\site-packages\\sklearn\\cross_validation.py:44: DeprecationWarning: This module was deprecated in version 0.18 in favor of the model_selection module into which all the refactored classes and functions are moved. Also note that the interface of the new CV iterators are different from that of this module. This module will be removed in 0.20.\n",
      "  \"This module will be removed in 0.20.\", DeprecationWarning)\n"
     ]
    }
   ],
   "source": [
    "import numpy as np\n",
    "import pandas as pd\n",
    "import math\n",
    "import pickle\n",
    "\n",
    "from sklearn.ensemble import RandomForestClassifier\n",
    "from sklearn import svm, cross_validation\n",
    "from sklearn.model_selection import cross_val_score\n",
    "from sklearn.cross_validation import train_test_split\n",
    "from sklearn.ensemble import RandomForestRegressor\n",
    "\n",
    "hedgecolumns=pd.read_csv(\"columnnames.csv\", encoding =  \"ISO-8859-1\")\n",
    "hcol=hedgecolumns.values.T.tolist()[0]"
   ]
  },
  {
   "cell_type": "code",
   "execution_count": 3,
   "metadata": {},
   "outputs": [],
   "source": [
    "#reading files\n",
    "\n",
    "##########################################################\n",
    "##############Insert the file below ######################\n",
    "##########################################################\n",
    "\n",
    "#### attach the file name in between \" \" without any space\n",
    "\n",
    "hedgeable=pd.read_csv(\"data_orginal.csv\", names=hcol, low_memory=False, skipinitialspace=True)#, skipinitialspace=True, na_values=[\"?\"])\n",
    "\n",
    "\n",
    "##########################################################\n",
    "##############Insert the file above ######################\n",
    "##########################################################"
   ]
  },
  {
   "cell_type": "code",
   "execution_count": 4,
   "metadata": {
    "collapsed": true
   },
   "outputs": [],
   "source": [
    "\n",
    "#loading HiJae's Model\n",
    "HiJae_model= open(\"HiJae_RF_Model.pkl\", \"rb\")\n",
    "HiJae_Rf_Model=pickle.load(HiJae_model)\n",
    "\n",
    "##I just like to attach column names\n",
    "hedgecolumns=pd.read_csv(\"columnnames.csv\", encoding =  \"ISO-8859-1\")\n",
    "hcol=hedgecolumns.values.T.tolist()[0]"
   ]
  },
  {
   "cell_type": "code",
   "execution_count": 5,
   "metadata": {
    "collapsed": true
   },
   "outputs": [],
   "source": [
    "#locating non-numeric values so that I can replace them as NaN value \n",
    "def isnumber(x):\n",
    "    try:\n",
    "        float(x)\n",
    "        return True\n",
    "    except:\n",
    "        return False\n",
    "\n",
    "#removing null rows in specfic column(s) from a df\n",
    "def rm_null(df, i):\n",
    "    return df[df.iloc[:,i].isnull()]"
   ]
  },
  {
   "cell_type": "code",
   "execution_count": 6,
   "metadata": {
    "collapsed": true
   },
   "outputs": [],
   "source": [
    "#########Dealing with null values#########\n",
    "\n",
    "#First, I noticed the null values have string that involves \"?\"\n",
    "\n",
    "#I replace non-numeric values with NaN in all attribute values\n",
    "hedgeable.iloc[:,:-1]=hedgeable.iloc[:,:-1][hedgeable.iloc[:,:-1].applymap(isnumber)]\n",
    "\n",
    "#The instruction stated that \"28% of instances are missing some of the continuous attributes.\"\n",
    "#However, one binary column also had 15 null values. 15 out of 3,279 is a small number that I wanted to simply omit.\n",
    "#I simply omit NaN values in the binary attribute columns & response variable column for the sake of the model\n",
    "#I wonder how the test set will be\n",
    "hedgeable=hedgeable.dropna(subset=hedgeable.columns[3:-1], how='any')"
   ]
  },
  {
   "cell_type": "code",
   "execution_count": 7,
   "metadata": {
    "collapsed": true
   },
   "outputs": [],
   "source": [
    "##28% of instances are missing some of the continuous attributes.\n",
    "##Too big to simply omit in this case. (will try later anyways)\n",
    "##So, I'm gonna RF regress for the missing data\n",
    "\n",
    "##hedgeable rows without na values\n",
    "hedgeclean=hedgeable.dropna()\n",
    "##hedgeable rows only with na values\n",
    "hedgena=hedgeable[hedgeable.isnull().any(axis=1)]\n",
    "\n",
    "#getting rows where each column has null values. So I can replace these with predicted values\n",
    "height=rm_null(hedgeable, 0)    \n",
    "width =rm_null(hedgeable, 1)  \n",
    "aratio=rm_null(hedgeable, 2)\n",
    "\n"
   ]
  },
  {
   "cell_type": "code",
   "execution_count": 8,
   "metadata": {
    "collapsed": true
   },
   "outputs": [],
   "source": [
    "#To fill NaN values of the three continuous variables, I am predicting theses values using random forest\n",
    "#height and weight could use both RF regressor & Classifier\n",
    "#The minimum number of groups for any class cannot be less than n_splits=3\n",
    "#So I am trying regressors: svm and rf \n",
    "\n",
    "#print(len(df_width_cl.value_counts())) #219\n",
    "#print(len(df_width_cl.value_counts())) #277\n",
    "\n",
    "#predictor\n",
    "df_x_cl=hedgeclean.iloc[:,3:-1] #2359 rows × 1555 columns\n",
    "\n",
    "#response\n",
    "df_height_cl=hedgeclean.iloc[:,0] #2359 rows × 1 columns\n",
    "df_width_cl=hedgeclean.iloc[:,1] #2359 rows × 1 columns\n",
    "df_aratio_cl=hedgeclean.iloc[:,2] #2359 rows × 1 columns\n",
    "\n",
    "#splitting test vs train"
   ]
  },
  {
   "cell_type": "code",
   "execution_count": 9,
   "metadata": {
    "collapsed": true
   },
   "outputs": [],
   "source": [
    "#tuning tree counts\n",
    "height_x=height.iloc[:,3:-1]\n",
    "width_x=width.iloc[:,3:-1]\n",
    "aratio_x=aratio.iloc[:,3:-1]\n",
    "\n",
    "#n_estimators have been chosen after cross_validations of each\n",
    "#height\n",
    "rf_reg=RandomForestRegressor(n_estimators=120)\n",
    "rf_reg.fit(df_x_cl, df_height_cl)\n",
    "height_pred=rf_reg.predict(height_x)\n",
    "\n",
    "#width\n",
    "rf_reg=RandomForestRegressor(n_estimators=120)\n",
    "rf_reg.fit(df_x_cl, df_width_cl)\n",
    "width_pred=rf_reg.predict(width_x)\n",
    "\n",
    "#aratio\n",
    "rf_reg=RandomForestRegressor(n_estimators=80)\n",
    "rf_reg.fit(df_x_cl, df_aratio_cl)\n",
    "aratio_pred=rf_reg.predict(aratio_x)"
   ]
  },
  {
   "cell_type": "code",
   "execution_count": 10,
   "metadata": {
    "collapsed": true
   },
   "outputs": [],
   "source": [
    "#filling missing values with my predicted values\n",
    "##the end of data manipulation\n",
    "hedgeable.loc[hedgeable['height: continuous.'].isnull(), 'height: continuous.']=list(height_pred)\n",
    "hedgeable.loc[hedgeable['width: continuous.'].isnull(), 'width: continuous.']=list(width_pred)\n",
    "hedgeable.loc[hedgeable['aratio: continuous.'].isnull(), 'aratio: continuous.']=list(aratio_pred)\n"
   ]
  },
  {
   "cell_type": "code",
   "execution_count": 11,
   "metadata": {},
   "outputs": [
    {
     "name": "stdout",
     "output_type": "stream",
     "text": [
      "model accuracy :  0.992953431372549\n"
     ]
    }
   ],
   "source": [
    "x=hedgeable.iloc[:,:-1]\n",
    "ad=hedgeable.iloc[:,-1]\n",
    "\n",
    "HiJae_Pred=HiJae_Rf_Model.predict(x)\n",
    "\n",
    "s=ad.values\n",
    "correct=0\n",
    "for i in range(len(HiJae_Pred)):\n",
    "    if HiJae_Pred[i]==s[i]:\n",
    "        correct=correct+1\n",
    "    else:\n",
    "        correct=correct+0\n",
    "\n",
    "print(\"model accuracy : \", correct/len(s))\n"
   ]
  }
 ],
 "metadata": {
  "kernelspec": {
   "display_name": "Python 3",
   "language": "python",
   "name": "python3"
  },
  "language_info": {
   "codemirror_mode": {
    "name": "ipython",
    "version": 3
   },
   "file_extension": ".py",
   "mimetype": "text/x-python",
   "name": "python",
   "nbconvert_exporter": "python",
   "pygments_lexer": "ipython3",
   "version": "3.6.1"
  }
 },
 "nbformat": 4,
 "nbformat_minor": 2
}
