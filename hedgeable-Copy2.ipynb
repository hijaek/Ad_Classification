{
 "cells": [
  {
   "cell_type": "code",
   "execution_count": 1,
   "metadata": {},
   "outputs": [
    {
     "name": "stderr",
     "output_type": "stream",
     "text": [
      "C:\\Users\\hikim.TPR\\AppData\\Local\\Continuum\\Anaconda3\\lib\\site-packages\\sklearn\\cross_validation.py:44: DeprecationWarning: This module was deprecated in version 0.18 in favor of the model_selection module into which all the refactored classes and functions are moved. Also note that the interface of the new CV iterators are different from that of this module. This module will be removed in 0.20.\n",
      "  \"This module will be removed in 0.20.\", DeprecationWarning)\n"
     ]
    }
   ],
   "source": [
    "import numpy as np\n",
    "import pandas as pd\n",
    "import math\n",
    "from sklearn.ensemble import RandomForestClassifier\n",
    "from sklearn import svm, cross_validation\n",
    "from sklearn.model_selection import cross_val_score\n",
    "from sklearn.cross_validation import train_test_split\n",
    "from sklearn.ensemble import RandomForestRegressor\n"
   ]
  },
  {
   "cell_type": "code",
   "execution_count": 2,
   "metadata": {
    "collapsed": true
   },
   "outputs": [],
   "source": [
    "#required functions\n",
    "\n",
    "#locating non-numeric values so that I can replace them as NaN value \n",
    "def isnumber(x):\n",
    "    try:\n",
    "        float(x)\n",
    "        return True\n",
    "    except:\n",
    "        return False\n",
    "\n",
    "#removing null rows in specfic column(s) from a df\n",
    "def rm_null(df, i):\n",
    "    return df[df.iloc[:,i].isnull()]"
   ]
  },
  {
   "cell_type": "code",
   "execution_count": 3,
   "metadata": {
    "scrolled": true
   },
   "outputs": [
    {
     "name": "stdout",
     "output_type": "stream",
     "text": [
      "3279\n"
     ]
    }
   ],
   "source": [
    "##I just like to attach column names\n",
    "hedgecolumns=pd.read_csv(\"columnnames.csv\", encoding =  \"ISO-8859-1\")\n",
    "hcol=hedgecolumns.values.T.tolist()[0]\n",
    "\n",
    "##reading data.csv\n",
    "hedgeable=pd.read_csv(\"data_orginal.csv\", names=hcol, low_memory=False, skipinitialspace=True)#, skipinitialspace=True, na_values=[\"?\"])\n",
    "print(len(hedgeable))\n"
   ]
  },
  {
   "cell_type": "code",
   "execution_count": 4,
   "metadata": {},
   "outputs": [
    {
     "data": {
      "text/plain": [
       "3264"
      ]
     },
     "execution_count": 4,
     "metadata": {},
     "output_type": "execute_result"
    }
   ],
   "source": [
    "#########Dealing with null values#########\n",
    "\n",
    "#First, I noticed the null values have string that involves \"?\"\n",
    "#I replace non-numeric values with NaN in all attribute values\n",
    "hedgeable.iloc[:,:-1]=hedgeable.iloc[:,:-1][hedgeable.iloc[:,:-1].applymap(isnumber)]\n",
    "\n",
    "#The instruction stated that \"28% of instances are missing some of the continuous attributes.\"\n",
    "#However, one binary column also had 15 null values. 15 out of 3,279 is a small number that I wanted to simply omit.\n",
    "#I simply omit NaN values in the binary attribute columns & response variable column\n",
    "\n",
    "hedgeable=hedgeable.dropna(subset=hedgeable.columns[3:-1], how='any')\n",
    "len(hedgeable)\n"
   ]
  },
  {
   "cell_type": "code",
   "execution_count": 6,
   "metadata": {},
   "outputs": [
    {
     "name": "stdout",
     "output_type": "stream",
     "text": [
      "898\n",
      "896\n",
      "905\n"
     ]
    }
   ],
   "source": [
    "##28% of instances are missing some of the continuous attributes.\n",
    "##Too big to simply omit in this case. (will try later anyways)\n",
    "##So, I'm gonna RF regress for the missing data\n",
    "\n",
    "##hedgeable rows without na values\n",
    "hedgeclean=hedgeable.dropna()\n",
    "##hedgeable rows only with na values\n",
    "hedgena=hedgeable[hedgeable.isnull().any(axis=1)]\n",
    "\n",
    "\n",
    "#getting rows where each column has null values. So I can replace these with predicted values\n",
    "\n",
    "\n",
    "height=rm_null(hedgeable, 0)    \n",
    "width =rm_null(hedgeable, 1)  \n",
    "aratio=rm_null(hedgeable, 2)  \n",
    "\n",
    "print(len(height))\n",
    "print(len(width))\n",
    "print(len(aratio))"
   ]
  },
  {
   "cell_type": "code",
   "execution_count": 9,
   "metadata": {
    "collapsed": true
   },
   "outputs": [],
   "source": [
    "#To fill NaN values of the three continuous variables, I am predicting theses values using random forest\n",
    "#height and weight could use both RF regressor & Classifier\n",
    "#The minimum number of groups for any class cannot be less than n_splits=3\n",
    "#So I am trying regressors: svm and rf \n",
    "\n",
    "#print(len(df_width_cl.value_counts())) #219\n",
    "#print(len(df_width_cl.value_counts())) #277\n",
    "\n",
    "#predictor\n",
    "df_x_cl=hedgeclean.iloc[:,3:-1] #2359 rows × 1555 columns\n",
    "\n",
    "#response\n",
    "df_height_cl=hedgeclean.iloc[:,0] #2359 rows × 1 columns\n",
    "df_width_cl=hedgeclean.iloc[:,1] #2359 rows × 1 columns\n",
    "df_aratio_cl=hedgeclean.iloc[:,2] #2359 rows × 1 columns\n",
    "\n",
    "#splitting test vs train\n",
    "x_train_ht, x_test_ht, y_train_ht, y_test_ht = train_test_split(df_x_cl, df_height_cl, test_size=0.2, random_state=1)\n",
    "x_train_wdt, x_test_wdt, y_train_wdt, y_test_wdt = train_test_split(df_x_cl, df_width_cl, test_size=0.2, random_state=1)\n",
    "x_train_rt, x_test_rt, y_train_rt, y_test_rt = train_test_split(df_x_cl, df_aratio_cl, test_size=0.2, random_state=1)"
   ]
  },
  {
   "cell_type": "code",
   "execution_count": 12,
   "metadata": {},
   "outputs": [
    {
     "name": "stdout",
     "output_type": "stream",
     "text": [
      "219\n",
      "277\n"
     ]
    }
   ],
   "source": [
    "print(len(hedgeclean.iloc[:,0].value_counts()))\n",
    "print(len(hedgeclean.iloc[:,1].value_counts()))"
   ]
  },
  {
   "cell_type": "code",
   "execution_count": 18,
   "metadata": {},
   "outputs": [
    {
     "name": "stdout",
     "output_type": "stream",
     "text": [
      "rf_regressor_score:  40   -1852.40806563\n",
      "rf_regressor_score:  70   -1846.57603409\n",
      "rf_regressor_score:  100   -1810.83914598\n",
      "rf_regressor_score:  130   -1811.79446615\n",
      "rf_regressor_score:  160   -1829.4672157\n",
      "rf_regressor_score:  190   -1833.32885974\n",
      "rf_regressor_score:  220   -1834.42773338\n",
      "rf_regressor_score:  250   -1822.56990029\n",
      "rf_regressor_score:  280   -1815.74145804\n"
     ]
    }
   ],
   "source": [
    "#RF cv over tree sizes\n",
    "\n",
    "\n",
    "for i in range(40, 300, 30):\n",
    "    rf_reg=RandomForestRegressor(n_estimators=i)\n",
    "    cv = cross_validation.KFold(len(df_x_cl), n_folds=7)\n",
    "    regressor_scores = cross_val_score(rf_reg, x_train_ht, y_train_ht, scoring='neg_mean_squared_error')\n",
    "    print(\"rf_regressor_score: \",i,\" \", regressor_scores.mean())"
   ]
  },
  {
   "cell_type": "code",
   "execution_count": null,
   "metadata": {
    "collapsed": true
   },
   "outputs": [],
   "source": [
    "sv_reg=svm.SVR()(n_estimators=100)\n",
    "cv = cross_validation.KFold(len(df_x_cl), n_folds=7)\n",
    "regressor_scores = cross_val_score(sv_reg, x_train_ht, y_train_ht, scoring='neg_mean_squared_error')\n",
    "print(\"svr_score: \",i,\" \", regressor_scores.mean())"
   ]
  },
  {
   "cell_type": "code",
   "execution_count": 11,
   "metadata": {},
   "outputs": [
    {
     "name": "stdout",
     "output_type": "stream",
     "text": [
      "rf_regressor_score:  0.371502747756\n"
     ]
    }
   ],
   "source": [
    "#model types\n",
    "#rf=RandomForestClassifier(n_estimators=50)\n",
    "#svc=svm.SVC()\n",
    "\n",
    "svr=svm.SVR()\n",
    "\n",
    "#cv\n",
    "\n",
    "\n",
    "#cv \n",
    "regressor_scores = cross_val_score(rf_reg, x_train_ht, y_train_ht)\n",
    "svm_scores = cross_val_score(svr, x_train_ht, y_train_ht)\n",
    "#print(\"classifier score: \", classifier_scores.mean())\n",
    "print(\"rf_regressor_score: \", regressor_scores.mean())\n",
    "#print(\"svm_score: \", svm_scores.mean()) "
   ]
  },
  {
   "cell_type": "code",
   "execution_count": 19,
   "metadata": {},
   "outputs": [
    {
     "name": "stdout",
     "output_type": "stream",
     "text": [
      "11.891891659664108\n",
      "11.8918916597\n",
      "19.676368353\n",
      "39.65887586289224\n",
      "39.6588758629\n",
      "47.7784336646\n"
     ]
    }
   ],
   "source": [
    "rf_reg=RandomForestRegressor(n_estimators=100)\n",
    "\n",
    "\n",
    "#applying fit model to the test set\n",
    "rf_reg.fit(x_test_ht, y_test_ht)\n",
    "svr.fit(x_test_ht,y_test_ht)\n",
    "\n",
    "#preditcted values\n",
    "rf_pred_ht_rf=rf_reg.predict(x_test_ht)\n",
    "rf_pred_ht_svr=svr.predict(x_test_ht)\n",
    "s=y_test_ht.tolist()\n",
    "\n",
    "rf_squarederror=[]\n",
    "sv_squarederror=[]\n",
    "for i in range(len(rf_pred_ht_rf)):\n",
    "    rf_squarederror.append(math.sqrt(((rf_pred_ht_rf[i]-float(s[i]))**2)))\n",
    "    sv_squarederror.append(math.sqrt(((rf_pred_ht_svr[i]-float(s[i]))**2)))\n",
    "\n",
    "\n",
    "print(sum(rf_squarederror)/len(rf_squarederror))\n",
    "print(np.mean(rf_squarederror))\n",
    "print(np.std(rf_squarederror))\n",
    "\n",
    "#pd.Series(list(s))\n",
    "print(sum(sv_squarederror)/len(sv_squarederror))\n",
    "print(np.mean(sv_squarederror))\n",
    "print(np.std(sv_squarederror))"
   ]
  },
  {
   "cell_type": "code",
   "execution_count": 20,
   "metadata": {
    "collapsed": true
   },
   "outputs": [],
   "source": [
    "height_x=height.iloc[:,3:-1]\n",
    "width_x=width.iloc[:,3:-1]\n",
    "aratio_x=aratio.iloc[:,3:-1]\n",
    "\n",
    "rf_reg.fit(df_x_cl, df_height_cl)\n",
    "\n",
    "height_pred=rf_reg.predict(height_x)\n",
    "#width_pred=rf_reg.predict(width_x)\n",
    "#aratio_pred=rf_reg.predict(aratio_x)"
   ]
  },
  {
   "cell_type": "code",
   "execution_count": 100,
   "metadata": {},
   "outputs": [
    {
     "name": "stdout",
     "output_type": "stream",
     "text": [
      "898\n",
      "472\n"
     ]
    }
   ],
   "source": [
    "print(len(height_pred))\n",
    "print(len(y_test_ht.values))"
   ]
  },
  {
   "cell_type": "code",
   "execution_count": 144,
   "metadata": {},
   "outputs": [
    {
     "name": "stdout",
     "output_type": "stream",
     "text": [
      "12.044862087136268\n",
      "12.0448620871\n",
      "19.6251025719\n",
      "0.0\n"
     ]
    }
   ],
   "source": []
  },
  {
   "cell_type": "code",
   "execution_count": 99,
   "metadata": {
    "collapsed": true
   },
   "outputs": [],
   "source": [
    "#replacing NaN values with the predicted values\n",
    "hedgeable.loc[hedgeable['height: continuous.'].isnull(), 'height: continuous.']=list(height_pred)\n",
    "hedgeable.loc[hedgeable['width: continuous.'].isnull(), 'width: continuous.']=list(width_pred)\n",
    "hedgeable.loc[hedgeable['aratio: continuous.'].isnull(), 'aratio: continuous.']=list(aratio_pred)\n"
   ]
  },
  {
   "cell_type": "code",
   "execution_count": 100,
   "metadata": {
    "scrolled": true
   },
   "outputs": [
    {
     "name": "stdout",
     "output_type": "stream",
     "text": [
      "3264\n",
      "3264\n"
     ]
    }
   ],
   "source": [
    "#making sure there's no null values\n",
    "print(len(hedgeable))\n",
    "print(len(hedgeable.dropna()))"
   ]
  },
  {
   "cell_type": "code",
   "execution_count": 122,
   "metadata": {},
   "outputs": [
    {
     "name": "stdout",
     "output_type": "stream",
     "text": [
      "0.976530612244898\n"
     ]
    }
   ],
   "source": [
    "x=hedgeable.iloc[:,:-1]\n",
    "ad=hedgeable.iloc[:,-1]\n",
    "x_train, x_test, y_train, y_test = train_test_split(x, ad, test_size=0.3)#, random_state=3)\n",
    "\n",
    "#classifying now \n",
    "rf=RandomForestClassifier(n_estimators=100)\n",
    "rf.fit(x_train, y_train)\n",
    "pred=rf.predict(x_test)\n",
    "\n",
    "\n",
    "s=y_test.values\n",
    "\n",
    "squarederror=[]\n",
    "correct=0\n",
    "for i in range(len(pred)):\n",
    "    if pred[i]==s[i]:\n",
    "        correct=correct+1\n",
    "    else:\n",
    "        correct=correct+0\n",
    "\n",
    "print(correct/len(s))"
   ]
  },
  {
   "cell_type": "code",
   "execution_count": 118,
   "metadata": {},
   "outputs": [
    {
     "name": "stdout",
     "output_type": "stream",
     "text": [
      "0.9806122448979592\n"
     ]
    }
   ],
   "source": [
    "s=y_test.values\n",
    "\n",
    "squarederror=[]\n",
    "correct=0\n",
    "for i in range(len(pred)):\n",
    "    if pred[i]==s[i]:\n",
    "        correct=correct+1\n",
    "    else:\n",
    "        correct=correct+0\n",
    "\n",
    "print(correct/len(s))"
   ]
  }
 ],
 "metadata": {
  "kernelspec": {
   "display_name": "Python 3",
   "language": "python",
   "name": "python3"
  },
  "language_info": {
   "codemirror_mode": {
    "name": "ipython",
    "version": 3
   },
   "file_extension": ".py",
   "mimetype": "text/x-python",
   "name": "python",
   "nbconvert_exporter": "python",
   "pygments_lexer": "ipython3",
   "version": "3.6.1"
  }
 },
 "nbformat": 4,
 "nbformat_minor": 2
}
