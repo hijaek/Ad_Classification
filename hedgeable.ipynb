{
 "cells": [
  {
   "cell_type": "code",
   "execution_count": 156,
   "metadata": {
    "collapsed": true
   },
   "outputs": [],
   "source": [
    "import numpy as np\n",
    "import pandas as pd\n",
    "import math\n",
    "from matplotlib import pyplot as plt\n",
    "from sklearn.ensemble import RandomForestClassifier\n",
    "from sklearn import cross_validation\n",
    "from sklearn.model_selection import cross_val_score\n",
    "\n",
    "from sklearn.cross_validation import train_test_split\n",
    "from sklearn.ensemble import RandomForestRegressor\n"
   ]
  },
  {
   "cell_type": "code",
   "execution_count": 2,
   "metadata": {
    "collapsed": true
   },
   "outputs": [],
   "source": [
    "#required functions\n",
    "\n",
    "#locating non-numeric values so that I can replace them as NaN value \n",
    "def isnumber(x):\n",
    "    try:\n",
    "        float(x)\n",
    "        return True\n",
    "    except:\n",
    "        return False\n",
    "\n",
    "   "
   ]
  },
  {
   "cell_type": "code",
   "execution_count": 3,
   "metadata": {
    "scrolled": true
   },
   "outputs": [
    {
     "name": "stdout",
     "output_type": "stream",
     "text": [
      "3279\n"
     ]
    }
   ],
   "source": [
    "##I just like to attach column names\n",
    "hedgecolumns=pd.read_csv(\"columnnames.csv\", encoding =  \"ISO-8859-1\")\n",
    "hcol=hedgecolumns.values.T.tolist()[0]\n",
    "\n",
    "##reading data.csv\n",
    "hedgeable=pd.read_csv(\"data_orginal.csv\", names=hcol, low_memory=False)#, skipinitialspace=True, na_values=[\"?\"])\n",
    "print(len(hedgeable))\n"
   ]
  },
  {
   "cell_type": "code",
   "execution_count": 4,
   "metadata": {},
   "outputs": [
    {
     "data": {
      "text/plain": [
       "3264"
      ]
     },
     "execution_count": 4,
     "metadata": {},
     "output_type": "execute_result"
    }
   ],
   "source": [
    "#Dealing with null values\n",
    "\n",
    "#First, I noticed the null values have string that involves \"?\"\n",
    "#I replace non-numeric values with NaN in all attribute values\n",
    "hedgeable.iloc[:,:-1]=hedgeable.iloc[:,:-1][hedgeable.iloc[:,:-1].applymap(isnumber)]\n",
    "\n",
    "#The instruction stated that \"28% of instances are missing some of the continuous attributes.\"\n",
    "#However, one binary column also had 15 null values. 15 out of 3,279 is a small number that I wanted to simply omit.\n",
    "#I simply omit NaN values in the binary attribute columns & response variable column\n",
    "\n",
    "hedgeable=hedgeable.dropna(subset=hedgeable.columns[3:-1], how='any')\n",
    "len(hedgeable)\n"
   ]
  },
  {
   "cell_type": "code",
   "execution_count": 214,
   "metadata": {},
   "outputs": [
    {
     "name": "stdout",
     "output_type": "stream",
     "text": [
      "898\n",
      "896\n",
      "905\n",
      "898\n"
     ]
    }
   ],
   "source": [
    "##28% of instances are missing some of the continuous attributes.\n",
    "##Too big to simply omit in this case. (will try later anyways)\n",
    "##So, I'm gonna RF regress for the missing data\n",
    "\n",
    "##hedgeable rows without na values\n",
    "hedgeclean=hedgeable.dropna()\n",
    "##hedgeable rows only with na values\n",
    "hedgena=hedgeable[hedgeable.isnull().any(axis=1)]\n",
    "\n",
    "\n",
    "#getting rows where each column has null values. So I can replace these with predicted values\n",
    "def rm_null(df, i):\n",
    "    df[df.iloc[:,i].isnull()]\n",
    "\n",
    "height2=rm_null(hedgeable, 0)    \n",
    "height=rm_null(hedgeable, 0)    \n",
    "\n",
    "hedgeable[hedgeable.iloc[:,0].isnull()]\n",
    "width=hedgeable[hedgeable.iloc[:,1].isnull()]\n",
    "aratio=hedgeable[hedgeable.iloc[:,2].isnull()]\n",
    "print(len(height))\n",
    "print(len(width))\n",
    "print(len(aratio))\n",
    "print(len(height))"
   ]
  },
  {
   "cell_type": "code",
   "execution_count": 211,
   "metadata": {},
   "outputs": [
    {
     "name": "stdout",
     "output_type": "stream",
     "text": [
      "2359\n"
     ]
    },
    {
     "ename": "AttributeError",
     "evalue": "'int' object has no attribute 'value_counts'",
     "output_type": "error",
     "traceback": [
      "\u001b[1;31m---------------------------------------------------------------------------\u001b[0m",
      "\u001b[1;31mAttributeError\u001b[0m                            Traceback (most recent call last)",
      "\u001b[1;32m<ipython-input-211-7709fd00425a>\u001b[0m in \u001b[0;36m<module>\u001b[1;34m()\u001b[0m\n\u001b[0;32m      1\u001b[0m \u001b[0mprint\u001b[0m\u001b[1;33m(\u001b[0m\u001b[0mlen\u001b[0m\u001b[1;33m(\u001b[0m\u001b[0mdf_width_cl\u001b[0m\u001b[1;33m)\u001b[0m\u001b[1;33m)\u001b[0m\u001b[1;33m\u001b[0m\u001b[0m\n\u001b[1;32m----> 2\u001b[1;33m \u001b[0mlen\u001b[0m\u001b[1;33m(\u001b[0m\u001b[0mdf_width_cl\u001b[0m\u001b[1;33m)\u001b[0m\u001b[1;33m.\u001b[0m\u001b[0mvalue_counts\u001b[0m\u001b[1;33m(\u001b[0m\u001b[1;33m)\u001b[0m\u001b[1;33m\u001b[0m\u001b[0m\n\u001b[0m",
      "\u001b[1;31mAttributeError\u001b[0m: 'int' object has no attribute 'value_counts'"
     ]
    }
   ],
   "source": [
    "print(len(df_width_cl))\n",
    "len(df_width_cl).value_counts()"
   ]
  },
  {
   "cell_type": "code",
   "execution_count": 23,
   "metadata": {
    "collapsed": true
   },
   "outputs": [],
   "source": [
    "#To fill NaN values of the three continuous variables, I am predicting theses values using random forest\n",
    "#height and weight could use both RF regressor & Classifier\n",
    "#although h & w are continuous variable, the number of values are only h=219, w=277\n",
    "#This suggests that I may be able to \"classify\" heights and weights.\n",
    "#So I am trying both\n",
    "\n",
    "#print(len(df_width_cl.value_counts())) #219\n",
    "#print(len(df_width_cl.value_counts())) #277\n",
    "\n",
    "\n",
    "df_x_cl=hedgeclean.iloc[:,3:-1] #2359 rows × 1555 columns\n",
    "df_height_cl=hedgeclean.iloc[:,0] #2359 rows × 1 columns\n",
    "df_width_cl=hedgeclean.iloc[:,1] #2359 rows × 1 columns\n",
    "df_aratio_cl=hedgeclean.iloc[:,2] #2359 rows × 1 columns\n",
    "\n",
    "#splitting \n",
    "x_train_ht, x_test_ht, y_train_ht, y_test_ht = train_test_split(df_x_cl, df_height_cl, test_size=0.3, random_state=1)\n",
    "x_train_wdt, x_test_wdt, y_train_wdt, y_test_wdt = train_test_split(df_x_cl, df_width_cl, test_size=0.3, random_state=1)\n",
    "x_train_rt, x_test_rt, y_train_rt, y_test_rt = train_test_split(df_x_cl, df_aratio_cl, test_size=0.3, random_state=1)"
   ]
  },
  {
   "cell_type": "code",
   "execution_count": 27,
   "metadata": {},
   "outputs": [
    {
     "name": "stdout",
     "output_type": "stream",
     "text": [
      "219\n",
      "277\n"
     ]
    }
   ],
   "source": [
    "print(len(hedgeclean.iloc[:,0].value_counts()))\n",
    "print(len(hedgeclean.iloc[:,1].value_counts()))"
   ]
  },
  {
   "cell_type": "code",
   "execution_count": 46,
   "metadata": {
    "scrolled": false
   },
   "outputs": [
    {
     "data": {
      "text/plain": [
       "RandomForestRegressor(bootstrap=True, criterion='mse', max_depth=None,\n",
       "           max_features='auto', max_leaf_nodes=None,\n",
       "           min_impurity_split=1e-07, min_samples_leaf=1,\n",
       "           min_samples_split=2, min_weight_fraction_leaf=0.0,\n",
       "           n_estimators=50, n_jobs=1, oob_score=False, random_state=None,\n",
       "           verbose=0, warm_start=False)"
      ]
     },
     "execution_count": 46,
     "metadata": {},
     "output_type": "execute_result"
    }
   ],
   "source": [
    "#\n",
    "rf_ht=RandomForestClassifier(n_estimators=50)\n",
    "rf_ht_reg=RandomForestRegressor(n_estimators=50)\n",
    "rf_wdt=RandomForestClassifier(n_estimators=50)\n",
    "rf_rt=RandomForestRegressor(n_estimators=50)\n",
    "\n",
    "\n",
    "rf_ht_reg.fit(x_train_ht,y_train_ht)\n",
    "rf_ht.fit(x_train_ht,y_train_ht)\n",
    "\n",
    "rf_wdt.fit(x_train_wdt,y_train_wdt)\n",
    "rf_rt.fit(x_train_rt.as_matrix(), y_train_rt.as_matrix())"
   ]
  },
  {
   "cell_type": "code",
   "execution_count": 185,
   "metadata": {},
   "outputs": [
    {
     "name": "stderr",
     "output_type": "stream",
     "text": [
      "C:\\Users\\hikim.TPR\\AppData\\Local\\Continuum\\Anaconda3\\lib\\site-packages\\sklearn\\model_selection\\_split.py:581: Warning: The least populated class in y has only 1 members, which is too few. The minimum number of groups for any class cannot be less than n_splits=10.\n",
      "  % (min_groups, self.n_splits)), Warning)\n"
     ]
    },
    {
     "name": "stdout",
     "output_type": "stream",
     "text": [
      "0.56261867004\n"
     ]
    }
   ],
   "source": [
    "rf_ht=RandomForestClassifier(n_estimators=50)\n",
    "\n",
    "cv = cross_validation.KFold(len(df_x_cl), n_folds=10)\n",
    "x=np.array(x_train_ht)\n",
    "y=np.array(y_train_ht)\n",
    "\n",
    "classifier_scores = cross_val_score(rf_ht, x, y)\n",
    "print(classifier_scores.mean())"
   ]
  },
  {
   "cell_type": "code",
   "execution_count": 194,
   "metadata": {},
   "outputs": [
    {
     "data": {
      "text/plain": [
       "array([ 0.37586207,  0.43555556,  0.51041667,  0.57894737,  0.52258065,\n",
       "        0.64084507,  0.65413534,  0.65322581,  0.6460177 ,  0.58490566])"
      ]
     },
     "execution_count": 194,
     "metadata": {},
     "output_type": "execute_result"
    }
   ],
   "source": [
    "regressor_scores"
   ]
  },
  {
   "cell_type": "code",
   "execution_count": null,
   "metadata": {
    "collapsed": true
   },
   "outputs": [],
   "source": []
  },
  {
   "cell_type": "code",
   "execution_count": 129,
   "metadata": {
    "collapsed": true
   },
   "outputs": [],
   "source": [
    "rf_ht=RandomForestClassifier(n_estimators=50)\n",
    "\n",
    "results = []\n",
    "# \"Error_function\" can be replaced by the error function of your analysis\n",
    "for traincv, testcv in cv:\n",
    "        probas = rf_ht.fit(x[traincv], y[traincv]).predict_proba(x[testcv])\n",
    "        results.append(probas)\n",
    "#print(\"Results: \" + np.array(results).mean())\n"
   ]
  },
  {
   "cell_type": "code",
   "execution_count": null,
   "metadata": {
    "collapsed": true
   },
   "outputs": [],
   "source": [
    "proba"
   ]
  },
  {
   "cell_type": "code",
   "execution_count": 217,
   "metadata": {},
   "outputs": [
    {
     "ename": "AttributeError",
     "evalue": "'list' object has no attribute 'mean'",
     "output_type": "error",
     "traceback": [
      "\u001b[1;31m---------------------------------------------------------------------------\u001b[0m",
      "\u001b[1;31mAttributeError\u001b[0m                            Traceback (most recent call last)",
      "\u001b[1;32m<ipython-input-217-9caefc9deb6d>\u001b[0m in \u001b[0;36m<module>\u001b[1;34m()\u001b[0m\n\u001b[1;32m----> 1\u001b[1;33m \u001b[1;33m[\u001b[0m\u001b[1;36m0.31526179\u001b[0m \u001b[1;33m,\u001b[0m \u001b[1;36m0.43362601\u001b[0m \u001b[1;33m,\u001b[0m \u001b[1;36m0.32484613\u001b[0m\u001b[1;33m]\u001b[0m\u001b[1;33m.\u001b[0m\u001b[0mmean\u001b[0m\u001b[1;33m(\u001b[0m\u001b[1;33m)\u001b[0m\u001b[1;33m\u001b[0m\u001b[0m\n\u001b[0m",
      "\u001b[1;31mAttributeError\u001b[0m: 'list' object has no attribute 'mean'"
     ]
    }
   ],
   "source": [
    "[0.31526179 , 0.43362601 , 0.32484613].mean()"
   ]
  },
  {
   "cell_type": "code",
   "execution_count": null,
   "metadata": {
    "collapsed": true
   },
   "outputs": [],
   "source": []
  },
  {
   "cell_type": "code",
   "execution_count": 68,
   "metadata": {
    "collapsed": true
   },
   "outputs": [],
   "source": [
    "height_x=height.iloc[:,3:-1]\n",
    "width_x=width.iloc[:,3:-1]\n",
    "aratio_x=aratio.iloc[:,3:-1]\n",
    "\n",
    "height_pred=rf_ht.predict(height_x)\n",
    "width_pred=rf_wdt.predict(width_x)\n",
    "aratio_pred=rf_rt.predict(aratio_x)"
   ]
  },
  {
   "cell_type": "code",
   "execution_count": 81,
   "metadata": {},
   "outputs": [
    {
     "name": "stdout",
     "output_type": "stream",
     "text": [
      "898\n",
      "472\n"
     ]
    }
   ],
   "source": [
    "print(len(height_pred))\n",
    "print(len(y_test_ht.values))"
   ]
  },
  {
   "cell_type": "code",
   "execution_count": 96,
   "metadata": {},
   "outputs": [
    {
     "name": "stdout",
     "output_type": "stream",
     "text": [
      "20.11228813559322\n",
      "20.1122881356\n",
      "40.6969746702\n",
      "0.527542372881356\n"
     ]
    }
   ],
   "source": [
    "pred_ht=rf_ht.predict(x_test_ht)\n",
    "s=y_test_ht.values\n",
    "\n",
    "squarederror=[]\n",
    "correct=0\n",
    "for i in range(len(pred_ht)):\n",
    "    if pred_ht[i]==s[i]:\n",
    "        correct=correct+1\n",
    "    else:\n",
    "        correct=correct+0\n",
    "    squarederror.append(math.sqrt((pred_ht[i]-s[i])**2))\n",
    "\n",
    "\n",
    "\n",
    "print(sum(squarederror)/len(squarederror))\n",
    "print(np.mean(squarederror))\n",
    "print(np.std(squarederror))\n",
    "\n",
    "#pd.Series(list(s))\n",
    "print((correct/len(pred_ht)))"
   ]
  },
  {
   "cell_type": "code",
   "execution_count": 26,
   "metadata": {
    "scrolled": false
   },
   "outputs": [
    {
     "name": "stdout",
     "output_type": "stream",
     "text": [
      "22.628336417652854\n",
      "22.6283364177\n",
      "38.3832431042\n"
     ]
    },
    {
     "data": {
      "text/plain": [
       "472"
      ]
     },
     "execution_count": 26,
     "metadata": {},
     "output_type": "execute_result"
    }
   ],
   "source": [
    "pred_ht_reg=rf_ht_reg.predict(x_test_ht)\n",
    "s=y_test_ht.values\n",
    "\n",
    "squarederror=[]\n",
    "for i in range(len(pred_ht_reg)):\n",
    "    squarederror.append(math.sqrt((pred_ht_reg[i]-s[i])**2))\n",
    "\n",
    "print(sum(squarederror)/len(squarederror))\n",
    "print(np.mean(squarederror))\n",
    "print(np.std(squarederror))\n",
    "\n",
    "#pd.Series(list(s))\n",
    "len(s)"
   ]
  },
  {
   "cell_type": "code",
   "execution_count": 99,
   "metadata": {
    "collapsed": true
   },
   "outputs": [],
   "source": [
    "#replacing NaN values with the predicted values\n",
    "hedgeable.loc[hedgeable['height: continuous.'].isnull(), 'height: continuous.']=list(height_pred)\n",
    "hedgeable.loc[hedgeable['width: continuous.'].isnull(), 'width: continuous.']=list(width_pred)\n",
    "hedgeable.loc[hedgeable['aratio: continuous.'].isnull(), 'aratio: continuous.']=list(aratio_pred)\n"
   ]
  },
  {
   "cell_type": "code",
   "execution_count": 100,
   "metadata": {},
   "outputs": [
    {
     "name": "stdout",
     "output_type": "stream",
     "text": [
      "3264\n",
      "3264\n"
     ]
    }
   ],
   "source": [
    "#making sure there's no null values\n",
    "print(len(hedgeable))\n",
    "print(len(hedgeable.dropna()))"
   ]
  },
  {
   "cell_type": "code",
   "execution_count": 122,
   "metadata": {},
   "outputs": [
    {
     "name": "stdout",
     "output_type": "stream",
     "text": [
      "0.976530612244898\n"
     ]
    }
   ],
   "source": [
    "x=hedgeable.iloc[:,:-1]\n",
    "ad=hedgeable.iloc[:,-1]\n",
    "x_train, x_test, y_train, y_test = train_test_split(x, ad, test_size=0.3)#, random_state=3)\n",
    "\n",
    "#classifying now \n",
    "rf=RandomForestClassifier(n_estimators=100)\n",
    "rf.fit(x_train, y_train)\n",
    "pred=rf.predict(x_test)\n",
    "\n",
    "\n",
    "s=y_test.values\n",
    "\n",
    "squarederror=[]\n",
    "correct=0\n",
    "for i in range(len(pred)):\n",
    "    if pred[i]==s[i]:\n",
    "        correct=correct+1\n",
    "    else:\n",
    "        correct=correct+0\n",
    "\n",
    "print(correct/len(s))"
   ]
  },
  {
   "cell_type": "code",
   "execution_count": 118,
   "metadata": {},
   "outputs": [
    {
     "name": "stdout",
     "output_type": "stream",
     "text": [
      "0.9806122448979592\n"
     ]
    }
   ],
   "source": [
    "s=y_test.values\n",
    "\n",
    "squarederror=[]\n",
    "correct=0\n",
    "for i in range(len(pred)):\n",
    "    if pred[i]==s[i]:\n",
    "        correct=correct+1\n",
    "    else:\n",
    "        correct=correct+0\n",
    "\n",
    "print(correct/len(s))"
   ]
  }
 ],
 "metadata": {
  "kernelspec": {
   "display_name": "Python 3",
   "language": "python",
   "name": "python3"
  },
  "language_info": {
   "codemirror_mode": {
    "name": "ipython",
    "version": 3
   },
   "file_extension": ".py",
   "mimetype": "text/x-python",
   "name": "python",
   "nbconvert_exporter": "python",
   "pygments_lexer": "ipython3",
   "version": "3.6.1"
  }
 },
 "nbformat": 4,
 "nbformat_minor": 2
}
